{
 "cells": [
  {
   "cell_type": "code",
   "execution_count": 46,
   "id": "b113f18e-ae6d-4c97-8d7d-fc2b2fe74e43",
   "metadata": {},
   "outputs": [],
   "source": [
    "import numpy as np\n",
    "import pandas as pd"
   ]
  },
  {
   "cell_type": "code",
   "execution_count": 47,
   "id": "57f0a4e8-4109-49b9-a012-8a4a453c05e5",
   "metadata": {},
   "outputs": [],
   "source": [
    "data = pd.read_csv(\"train.csv\")\n",
    "test_data = pd.read_csv(\"test.csv\")"
   ]
  },
  {
   "cell_type": "markdown",
   "id": "d4c5672d-87ed-4944-a5bd-147d61fc882a",
   "metadata": {},
   "source": [
    "# EDA"
   ]
  },
  {
   "cell_type": "code",
   "execution_count": 48,
   "id": "6b753742-3900-41e5-bda7-3255e523969b",
   "metadata": {},
   "outputs": [
    {
     "data": {
      "text/html": [
       "<div>\n",
       "<style scoped>\n",
       "    .dataframe tbody tr th:only-of-type {\n",
       "        vertical-align: middle;\n",
       "    }\n",
       "\n",
       "    .dataframe tbody tr th {\n",
       "        vertical-align: top;\n",
       "    }\n",
       "\n",
       "    .dataframe thead th {\n",
       "        text-align: right;\n",
       "    }\n",
       "</style>\n",
       "<table border=\"1\" class=\"dataframe\">\n",
       "  <thead>\n",
       "    <tr style=\"text-align: right;\">\n",
       "      <th></th>\n",
       "      <th>id</th>\n",
       "      <th>keyword</th>\n",
       "      <th>location</th>\n",
       "      <th>text</th>\n",
       "      <th>target</th>\n",
       "    </tr>\n",
       "  </thead>\n",
       "  <tbody>\n",
       "    <tr>\n",
       "      <th>0</th>\n",
       "      <td>1</td>\n",
       "      <td>NaN</td>\n",
       "      <td>NaN</td>\n",
       "      <td>Our Deeds are the Reason of this #earthquake M...</td>\n",
       "      <td>1</td>\n",
       "    </tr>\n",
       "    <tr>\n",
       "      <th>1</th>\n",
       "      <td>4</td>\n",
       "      <td>NaN</td>\n",
       "      <td>NaN</td>\n",
       "      <td>Forest fire near La Ronge Sask. Canada</td>\n",
       "      <td>1</td>\n",
       "    </tr>\n",
       "    <tr>\n",
       "      <th>2</th>\n",
       "      <td>5</td>\n",
       "      <td>NaN</td>\n",
       "      <td>NaN</td>\n",
       "      <td>All residents asked to 'shelter in place' are ...</td>\n",
       "      <td>1</td>\n",
       "    </tr>\n",
       "    <tr>\n",
       "      <th>3</th>\n",
       "      <td>6</td>\n",
       "      <td>NaN</td>\n",
       "      <td>NaN</td>\n",
       "      <td>13,000 people receive #wildfires evacuation or...</td>\n",
       "      <td>1</td>\n",
       "    </tr>\n",
       "    <tr>\n",
       "      <th>4</th>\n",
       "      <td>7</td>\n",
       "      <td>NaN</td>\n",
       "      <td>NaN</td>\n",
       "      <td>Just got sent this photo from Ruby #Alaska as ...</td>\n",
       "      <td>1</td>\n",
       "    </tr>\n",
       "  </tbody>\n",
       "</table>\n",
       "</div>"
      ],
      "text/plain": [
       "   id keyword location                                               text  \\\n",
       "0   1     NaN      NaN  Our Deeds are the Reason of this #earthquake M...   \n",
       "1   4     NaN      NaN             Forest fire near La Ronge Sask. Canada   \n",
       "2   5     NaN      NaN  All residents asked to 'shelter in place' are ...   \n",
       "3   6     NaN      NaN  13,000 people receive #wildfires evacuation or...   \n",
       "4   7     NaN      NaN  Just got sent this photo from Ruby #Alaska as ...   \n",
       "\n",
       "   target  \n",
       "0       1  \n",
       "1       1  \n",
       "2       1  \n",
       "3       1  \n",
       "4       1  "
      ]
     },
     "execution_count": 48,
     "metadata": {},
     "output_type": "execute_result"
    }
   ],
   "source": [
    "data.head()"
   ]
  },
  {
   "cell_type": "code",
   "execution_count": 49,
   "id": "acb0d434-94ee-4f36-b0f9-5739f5d43a5d",
   "metadata": {},
   "outputs": [
    {
     "data": {
      "text/plain": [
       "(7613, 5)"
      ]
     },
     "execution_count": 49,
     "metadata": {},
     "output_type": "execute_result"
    }
   ],
   "source": [
    "data.shape"
   ]
  },
  {
   "cell_type": "markdown",
   "id": "2a447f84-319f-4bfd-ac5f-20aea629f3ee",
   "metadata": {},
   "source": [
    "## Initial cleanup"
   ]
  },
  {
   "cell_type": "markdown",
   "id": "4b3d91b4-6b95-41ca-ac7d-d72c1e580998",
   "metadata": {},
   "source": [
    "### Handling NaNs"
   ]
  },
  {
   "cell_type": "code",
   "execution_count": 50,
   "id": "9acd8259-5b50-44ec-b3b0-ab6132e6ac0f",
   "metadata": {},
   "outputs": [],
   "source": [
    "def na_counts(df):\n",
    "    na_columns = df.columns[df.isna().any()]\n",
    "    if len(na_columns)==0:\n",
    "        return 0\n",
    "    return df[na_columns].isna().apply(lambda x: x.value_counts())"
   ]
  },
  {
   "cell_type": "code",
   "execution_count": 51,
   "id": "e851c259-db6e-45cd-be9b-9b5bbec7b57e",
   "metadata": {},
   "outputs": [
    {
     "data": {
      "text/html": [
       "<div>\n",
       "<style scoped>\n",
       "    .dataframe tbody tr th:only-of-type {\n",
       "        vertical-align: middle;\n",
       "    }\n",
       "\n",
       "    .dataframe tbody tr th {\n",
       "        vertical-align: top;\n",
       "    }\n",
       "\n",
       "    .dataframe thead th {\n",
       "        text-align: right;\n",
       "    }\n",
       "</style>\n",
       "<table border=\"1\" class=\"dataframe\">\n",
       "  <thead>\n",
       "    <tr style=\"text-align: right;\">\n",
       "      <th></th>\n",
       "      <th>keyword</th>\n",
       "      <th>location</th>\n",
       "    </tr>\n",
       "  </thead>\n",
       "  <tbody>\n",
       "    <tr>\n",
       "      <th>False</th>\n",
       "      <td>7552</td>\n",
       "      <td>5080</td>\n",
       "    </tr>\n",
       "    <tr>\n",
       "      <th>True</th>\n",
       "      <td>61</td>\n",
       "      <td>2533</td>\n",
       "    </tr>\n",
       "  </tbody>\n",
       "</table>\n",
       "</div>"
      ],
      "text/plain": [
       "       keyword  location\n",
       "False     7552      5080\n",
       "True        61      2533"
      ]
     },
     "execution_count": 51,
     "metadata": {},
     "output_type": "execute_result"
    }
   ],
   "source": [
    "na_counts(data)"
   ]
  },
  {
   "cell_type": "code",
   "execution_count": 52,
   "id": "b4c05fcb-bcfc-4dee-b9f5-27c20e2a4025",
   "metadata": {},
   "outputs": [
    {
     "data": {
      "text/html": [
       "<div>\n",
       "<style scoped>\n",
       "    .dataframe tbody tr th:only-of-type {\n",
       "        vertical-align: middle;\n",
       "    }\n",
       "\n",
       "    .dataframe tbody tr th {\n",
       "        vertical-align: top;\n",
       "    }\n",
       "\n",
       "    .dataframe thead th {\n",
       "        text-align: right;\n",
       "    }\n",
       "</style>\n",
       "<table border=\"1\" class=\"dataframe\">\n",
       "  <thead>\n",
       "    <tr style=\"text-align: right;\">\n",
       "      <th></th>\n",
       "      <th>keyword</th>\n",
       "      <th>location</th>\n",
       "    </tr>\n",
       "  </thead>\n",
       "  <tbody>\n",
       "    <tr>\n",
       "      <th>False</th>\n",
       "      <td>3237</td>\n",
       "      <td>2158</td>\n",
       "    </tr>\n",
       "    <tr>\n",
       "      <th>True</th>\n",
       "      <td>26</td>\n",
       "      <td>1105</td>\n",
       "    </tr>\n",
       "  </tbody>\n",
       "</table>\n",
       "</div>"
      ],
      "text/plain": [
       "       keyword  location\n",
       "False     3237      2158\n",
       "True        26      1105"
      ]
     },
     "execution_count": 52,
     "metadata": {},
     "output_type": "execute_result"
    }
   ],
   "source": [
    "na_counts(test_data)"
   ]
  },
  {
   "cell_type": "code",
   "execution_count": 53,
   "id": "794b5a95-b424-408c-a250-fffb467e86ad",
   "metadata": {},
   "outputs": [],
   "source": [
    "data = data.fillna(\"\")\n",
    "test_data = test_data.fillna(\"\")"
   ]
  },
  {
   "cell_type": "code",
   "execution_count": 54,
   "id": "f3ec4cec-4588-4818-b2c0-0430231babef",
   "metadata": {},
   "outputs": [
    {
     "data": {
      "text/plain": [
       "(0, 0)"
      ]
     },
     "execution_count": 54,
     "metadata": {},
     "output_type": "execute_result"
    }
   ],
   "source": [
    "na_counts(data), na_counts(test_data)"
   ]
  },
  {
   "cell_type": "markdown",
   "id": "c19acc17-9722-4668-becd-fadddf7df4a7",
   "metadata": {},
   "source": [
    "## Exploring variables"
   ]
  },
  {
   "cell_type": "code",
   "execution_count": 55,
   "id": "cd06a333-2d9c-482d-a153-852e9cefd021",
   "metadata": {},
   "outputs": [],
   "source": [
    "from sklearn.metrics import mutual_info_score\n",
    "from sklearn.feature_extraction import DictVectorizer"
   ]
  },
  {
   "cell_type": "code",
   "execution_count": 56,
   "id": "a8399c45-adcd-4f36-9593-a96cdebb173b",
   "metadata": {},
   "outputs": [],
   "source": [
    "def sorted_corr_coefs(df, column_name, target_column_name):\n",
    "    dv = DictVectorizer(sparse=False)\n",
    "    dict = data[[column_name]].to_dict(orient='records')\n",
    "    columns = np.transpose(dv.fit_transform(dict))\n",
    "    corrcoefs = []\n",
    "    for col in columns:\n",
    "        corrcoefs.append(np.corrcoef(col, data[target_column_name])[0, 1])\n",
    "    named_list = list(zip(dv.get_feature_names_out(), corrcoefs))\n",
    "    named_list.sort(key=lambda tup: tup[1], reverse = True)\n",
    "    return named_list"
   ]
  },
  {
   "cell_type": "code",
   "execution_count": 57,
   "id": "95bbfd39-e62e-4936-824d-7bf253d5d607",
   "metadata": {},
   "outputs": [],
   "source": [
    "# Analyzing mutual info score I want to compare it with such of a shuffled data\n",
    "shuffled_target = data.target.sample(frac=1, random_state=10)"
   ]
  },
  {
   "cell_type": "markdown",
   "id": "a2165bcc-450a-41a0-94e8-13d5fb4b9204",
   "metadata": {},
   "source": [
    "### Variable \"keyword\""
   ]
  },
  {
   "cell_type": "code",
   "execution_count": 58,
   "id": "0560c1b7-3808-420d-a751-c28439ac5513",
   "metadata": {},
   "outputs": [
    {
     "data": {
      "text/plain": [
       "                         61\n",
       "fatalities               45\n",
       "deluge                   42\n",
       "armageddon               42\n",
       "sinking                  41\n",
       "                         ..\n",
       "forest%20fire            19\n",
       "epicentre                12\n",
       "threat                   11\n",
       "inundation               10\n",
       "radiation%20emergency     9\n",
       "Name: keyword, Length: 222, dtype: int64"
      ]
     },
     "execution_count": 58,
     "metadata": {},
     "output_type": "execute_result"
    }
   ],
   "source": [
    "data.keyword.value_counts()"
   ]
  },
  {
   "cell_type": "code",
   "execution_count": 59,
   "id": "a75f2b56-ec44-4a34-a547-9d4968496395",
   "metadata": {},
   "outputs": [
    {
     "data": {
      "text/plain": [
       "(0.16947295623391556, 0.013396592412637555)"
      ]
     },
     "execution_count": 59,
     "metadata": {},
     "output_type": "execute_result"
    }
   ],
   "source": [
    "mutual_info_score(data['keyword'], data['target']), mutual_info_score(data['keyword'], shuffled_target)"
   ]
  },
  {
   "cell_type": "raw",
   "id": "ff72b651-73ac-43ba-921f-4ae8fa4ead5f",
   "metadata": {},
   "source": [
    "The mutual info score of this variable and the target is pretty high comparing to the \"shuffled\" score, so it seems the prediction significance of this variable is high"
   ]
  },
  {
   "cell_type": "raw",
   "id": "c5975ae2-4e9f-4c57-83f8-6a7108ebcb2e",
   "metadata": {},
   "source": [
    "Let's check correlation coefficients\n"
   ]
  },
  {
   "cell_type": "code",
   "execution_count": 60,
   "id": "2469e0e5-458d-41f4-b429-7a768a6c8007",
   "metadata": {
    "tags": []
   },
   "outputs": [
    {
     "data": {
      "text/plain": [
       "([('keyword=derailment', 0.08267501656791963),\n",
       "  ('keyword=wreckage', 0.08267501656791963),\n",
       "  ('keyword=debris', 0.080516616503906),\n",
       "  ('keyword=outbreak', 0.08006342865745676),\n",
       "  ('keyword=typhoon', 0.07783761510564755),\n",
       "  ('keyword=oil%20spill', 0.0778376151056471),\n",
       "  ('keyword=suicide%20bombing', 0.07198080078232648),\n",
       "  ('keyword=suicide%20bomber', 0.0695037416094893),\n",
       "  ('keyword=suicide%20bomb', 0.06653252563655127),\n",
       "  ('keyword=rescuers', 0.06653252563655115),\n",
       "  ('keyword=nuclear%20disaster', 0.06522974951590454),\n",
       "  ('keyword=evacuated', 0.06394441989331812),\n",
       "  ('keyword=bombing', 0.06263006921820151),\n",
       "  ('keyword=razed', 0.06261005839265929),\n",
       "  ('keyword=wildfire', 0.05986365507855725),\n",
       "  ('keyword=airplane%20accident', 0.058687591148766684),\n",
       "  ('keyword=wild%20fires', 0.057003478164473),\n",
       "  ('keyword=buildings%20on%20fire', 0.05582460651063401),\n",
       "  ('keyword=mass%20murder', 0.055824606510633965),\n",
       "  ('keyword=bridge%20collapse', 0.05476512390487407),\n",
       "  ('keyword=forest%20fires', 0.05434722196100132),\n",
       "  ('keyword=casualties', 0.05084265666098197),\n",
       "  ('keyword=drought', 0.05084265666098166),\n",
       "  ('keyword=earthquake', 0.04922331576724746),\n",
       "  ('keyword=evacuation', 0.04847297960576593),\n",
       "  ('keyword=thunderstorm', 0.04774650937478752),\n",
       "  ('keyword=violent%20storm', 0.0477465093747874),\n",
       "  ('keyword=', 0.04699780456824819),\n",
       "  ('keyword=sandstorm', 0.04617724734410844),\n",
       "  ('keyword=collision', 0.04550646012272855)],\n",
       " [('keyword=mayhem', -0.04188675614664765),\n",
       "  ('keyword=screamed', -0.04221594075121595),\n",
       "  ('keyword=blaze', -0.0426486409803176),\n",
       "  ('keyword=deluge', -0.043152089462730935),\n",
       "  ('keyword=drown', -0.04408644231935902),\n",
       "  ('keyword=siren', -0.04472823976886174),\n",
       "  ('keyword=twister', -0.04472823976886183),\n",
       "  ('keyword=fear', -0.04472823976886187),\n",
       "  ('keyword=stretcher', -0.04515160768744803),\n",
       "  ('keyword=blizzard', -0.04539440374868526),\n",
       "  ('keyword=crush', -0.045394403748685655),\n",
       "  ('keyword=collide', -0.04619541076110919),\n",
       "  ('keyword=smoke', -0.046195410761109376),\n",
       "  ('keyword=armageddon', -0.046734450723742285),\n",
       "  ('keyword=bloody', -0.047219024436327806),\n",
       "  ('keyword=blight', -0.04818784499770724),\n",
       "  ('keyword=panicking', -0.04919065625537101),\n",
       "  ('keyword=blew%20up', -0.049190656255371175),\n",
       "  ('keyword=panic', -0.0492098892108852),\n",
       "  ('keyword=harm', -0.049365620728702424),\n",
       "  ('keyword=explode', -0.05017903198569013),\n",
       "  ('keyword=wrecked', -0.05113178663476735),\n",
       "  ('keyword=traumatised', -0.05114149168021993),\n",
       "  ('keyword=screaming', -0.05209138226332336),\n",
       "  ('keyword=electrocute', -0.05228924767605569),\n",
       "  ('keyword=body%20bag', -0.053229704823294664),\n",
       "  ('keyword=blazing', -0.05415435078089598),\n",
       "  ('keyword=ruin', -0.05684086013528472),\n",
       "  ('keyword=aftershock', -0.05813382079078929),\n",
       "  ('keyword=body%20bags', -0.060242258664847156)])"
      ]
     },
     "execution_count": 60,
     "metadata": {},
     "output_type": "execute_result"
    }
   ],
   "source": [
    "sorted_corr_coefs(data, \"keyword\", \"target\")[:30], sorted_corr_coefs(data, \"keyword\", \"target\")[-30:]"
   ]
  },
  {
   "cell_type": "markdown",
   "id": "387f8da5-8bf4-46c0-9115-042dbe9a7c5e",
   "metadata": {
    "tags": []
   },
   "source": [
    "### Variable \"location\""
   ]
  },
  {
   "cell_type": "code",
   "execution_count": 61,
   "id": "db5a53b0-fe8c-4f71-ad6b-b5f1265dcf34",
   "metadata": {},
   "outputs": [
    {
     "data": {
      "text/plain": [
       "                                2533\n",
       "USA                              104\n",
       "New York                          71\n",
       "United States                     50\n",
       "London                            45\n",
       "                                ... \n",
       "Surulere Lagos,Home Of Swagg       1\n",
       "MontrÌ©al, QuÌ©bec                 1\n",
       "Montreal                           1\n",
       "ÌÏT: 6.4682,3.18287                1\n",
       "Lincoln                            1\n",
       "Name: location, Length: 3342, dtype: int64"
      ]
     },
     "execution_count": 61,
     "metadata": {},
     "output_type": "execute_result"
    }
   ],
   "source": [
    "data.location.value_counts()"
   ]
  },
  {
   "cell_type": "code",
   "execution_count": 62,
   "id": "999a5b8e-2664-4470-bb5d-547a11091177",
   "metadata": {},
   "outputs": [
    {
     "data": {
      "text/plain": [
       "(0.31254635681695697, 0.30151620936968093)"
      ]
     },
     "execution_count": 62,
     "metadata": {},
     "output_type": "execute_result"
    }
   ],
   "source": [
    "mutual_info_score(data['location'], data['target']), mutual_info_score(data['location'], shuffled_target)"
   ]
  },
  {
   "cell_type": "raw",
   "id": "b54f1e99-9233-4193-9973-1b8314997d8d",
   "metadata": {},
   "source": [
    "Although the score seems pretty high, it doesn't differ much from the \"shuffled\" score, so I'm afraid the prediction significance of this var is low"
   ]
  },
  {
   "cell_type": "raw",
   "id": "3d843b5b-df13-4d3c-a415-d29fb981788c",
   "metadata": {},
   "source": [
    "Correlation coefs with target:"
   ]
  },
  {
   "cell_type": "code",
   "execution_count": 63,
   "id": "829f5ed9-1267-43ca-9790-9b6e340b2bef",
   "metadata": {},
   "outputs": [
    {
     "data": {
      "text/plain": [
       "([('location=USA', 0.05101140011993961),\n",
       "  ('location=Mumbai', 0.047195302822488135),\n",
       "  ('location=India', 0.045857912019408635),\n",
       "  ('location=Nigeria', 0.043700694813182915),\n",
       "  ('location=Washington, DC', 0.030239642046364305),\n",
       "  ('location=Bend, Oregon', 0.026416230235620966),\n",
       "  ('location=Nairobi-KENYA', 0.02641623023562073),\n",
       "  ('location=Calgary', 0.026416230235620723),\n",
       "  ('location=Nigeria ', 0.02641623023562072),\n",
       "  ('location=Portland, Oregon', 0.02641623023562072)],\n",
       " [('location=Coventry', -0.022250773490737206),\n",
       "  ('location=Texas, USA', -0.02225077349073725),\n",
       "  ('location=Indiana', -0.02225077349073729),\n",
       "  ('location=Wisconsin', -0.02225077349073729),\n",
       "  ('location=ss', -0.024151501376051914),\n",
       "  ('location=London, England', -0.024151501376051928),\n",
       "  ('location=Morioh, Japan', -0.024376103182953163),\n",
       "  ('location=Pennsylvania, USA', -0.026330931421991832),\n",
       "  ('location=304', -0.029860396014459598),\n",
       "  ('location=New York', -0.04004435015466763)])"
      ]
     },
     "execution_count": 63,
     "metadata": {},
     "output_type": "execute_result"
    }
   ],
   "source": [
    "sorted_corr_coefs(data, \"location\", \"target\")[:10], sorted_corr_coefs(data, \"location\", \"target\")[-10:]"
   ]
  },
  {
   "cell_type": "markdown",
   "id": "45f5a729-577b-4b7a-a7ca-76e05be65281",
   "metadata": {
    "tags": []
   },
   "source": [
    "### Plan"
   ]
  },
  {
   "cell_type": "code",
   "execution_count": 64,
   "id": "f0c103cd-632d-4933-9021-f68d1231b13e",
   "metadata": {},
   "outputs": [],
   "source": [
    "scores = []\n",
    "def mus_vs_shuffle(df, target_column):\n",
    "    for column in df.columns:\n",
    "        if column != target_column:\n",
    "            shuffled = df[column].sample(frac=1)\n",
    "            score = mutual_info_score(df[column], df[target_column])\n",
    "            shuffled_score = mutual_info_score(shuffled, df[target_column])\n",
    "            scores.append([column, score, shuffled_score])\n",
    "    return pd.DataFrame(scores, columns=[\"column\", \"score\", \"shuffled_score\"])"
   ]
  },
  {
   "cell_type": "markdown",
   "id": "c574e460-024d-4a7e-8054-981b6d4af426",
   "metadata": {},
   "source": [
    "1 Analyze data\n",
    "- main properties\n",
    "    - list of columns\n",
    "-- how many NaNs per column\n",
    "-- type of column\n",
    "-- unique count in column\n",
    "-- do all steps from all homeworks\n",
    "1.1 What are the correlations\n",
    "1.2 How significant\n",
    "1.3 Find dirt (nas, etc.)\n",
    "2. Cleanup data\n",
    "2.1 FillNa\n",
    "1.3 \"Dirty\" data\n",
    "3. Check hypothesis with models\n",
    "- frequency of some words in the text indicate disaster\n",
    "- combination of some words in the test indicate disaster\n",
    "- combination of some words in the text with the keyword\n",
    "- combination of some words in the text with location\n",
    "3.1 Models to try out:\n",
    "- Linear Regression\n",
    "- Random Forest\n",
    "- Booster\n",
    "3.2 "
   ]
  },
  {
   "cell_type": "code",
   "execution_count": 65,
   "id": "f1388c3c-da26-44df-809b-f56632dee526",
   "metadata": {},
   "outputs": [
    {
     "ename": "NameError",
     "evalue": "name 'clean_data' is not defined",
     "output_type": "error",
     "traceback": [
      "\u001b[0;31m---------------------------------------------------------------------------\u001b[0m",
      "\u001b[0;31mNameError\u001b[0m                                 Traceback (most recent call last)",
      "Cell \u001b[0;32mIn [65], line 1\u001b[0m\n\u001b[0;32m----> 1\u001b[0m mus_vs_shuffle(\u001b[43mclean_data\u001b[49m, target_column\u001b[38;5;241m=\u001b[39m\u001b[38;5;124m'\u001b[39m\u001b[38;5;124mtarget\u001b[39m\u001b[38;5;124m'\u001b[39m)\n",
      "\u001b[0;31mNameError\u001b[0m: name 'clean_data' is not defined"
     ]
    }
   ],
   "source": [
    "mus_vs_shuffle(clean_data, target_column='target')"
   ]
  },
  {
   "cell_type": "markdown",
   "id": "fc72fb64-a8b9-4083-8629-821f73652ac2",
   "metadata": {
    "tags": []
   },
   "source": [
    "### Variable \"text\""
   ]
  },
  {
   "cell_type": "code",
   "execution_count": 66,
   "id": "285bfea7-fe1d-4ce5-9865-2fc8237b06d5",
   "metadata": {},
   "outputs": [],
   "source": [
    "from sklearn import feature_extraction, linear_model, model_selection, preprocessing"
   ]
  },
  {
   "cell_type": "markdown",
   "id": "aa01db99-1374-4687-b985-1c513879ce7b",
   "metadata": {},
   "source": [
    "##### Count vectorizer does similar thing to usual dict vectorizer. It splits texts into separate words and create a column for each word. Than it assigns a number of occurences for each word in each cell of a particular column. In our case it will be `text`"
   ]
  },
  {
   "cell_type": "code",
   "execution_count": 67,
   "id": "47fc86ef-c3de-45cc-a4eb-3bb9cd3ca50a",
   "metadata": {},
   "outputs": [
    {
     "data": {
      "text/plain": [
       "(7613, 21637)"
      ]
     },
     "execution_count": 67,
     "metadata": {},
     "output_type": "execute_result"
    }
   ],
   "source": [
    "count_vectorizer = feature_extraction.text.CountVectorizer()\n",
    "vectors = count_vectorizer.fit_transform(data['text'])\n",
    "vectors.shape"
   ]
  },
  {
   "cell_type": "markdown",
   "id": "da8b6f3d-296d-49fd-aa8f-dfcd169f59fc",
   "metadata": {},
   "source": [
    "##### Let's see how the first text look like in terms of words frequencies"
   ]
  },
  {
   "cell_type": "code",
   "execution_count": 68,
   "id": "99ebd3ae-8683-4451-8979-90c472088a9c",
   "metadata": {},
   "outputs": [
    {
     "data": {
      "text/plain": [
       "([('all', 1),\n",
       "  ('allah', 1),\n",
       "  ('are', 1),\n",
       "  ('deeds', 1),\n",
       "  ('earthquake', 1),\n",
       "  ('forgive', 1),\n",
       "  ('may', 1),\n",
       "  ('of', 1),\n",
       "  ('our', 1),\n",
       "  ('reason', 1),\n",
       "  ('the', 1),\n",
       "  ('this', 1),\n",
       "  ('us', 1)],\n",
       " 'Our Deeds are the Reason of this #earthquake May ALLAH Forgive us all')"
      ]
     },
     "execution_count": 68,
     "metadata": {},
     "output_type": "execute_result"
    }
   ],
   "source": [
    "frequencies = list(zip(count_vectorizer.get_feature_names_out(), vectors[0].todense().getA()[0]))\n",
    "[x for x in frequencies if x[1] > 0], data.text[0]"
   ]
  },
  {
   "cell_type": "markdown",
   "id": "ae69aa80-6749-4355-b36e-98f867196285",
   "metadata": {},
   "source": [
    "##### Interesting! There are hashtags, i.e. #earthquake, but they are extracted as simple words. Let's fix this"
   ]
  },
  {
   "cell_type": "code",
   "execution_count": 69,
   "id": "24a0eb65-223e-4371-9622-a8ed18a9fc05",
   "metadata": {},
   "outputs": [
    {
     "data": {
      "text/plain": [
       "(7613, 22351)"
      ]
     },
     "execution_count": 69,
     "metadata": {},
     "output_type": "execute_result"
    }
   ],
   "source": [
    "hashtag_pattern = r'(?u)\\b\\w\\w+\\b|#?\\w\\w+\\b'\n",
    "count_vectorizer = feature_extraction.text.CountVectorizer(token_pattern=hashtag_pattern)\n",
    "vectors = count_vectorizer.fit_transform(data['text'])\n",
    "vectors.shape"
   ]
  },
  {
   "cell_type": "code",
   "execution_count": 70,
   "id": "fa8fcf3a-d079-49b0-b941-eae41686ed74",
   "metadata": {},
   "outputs": [
    {
     "data": {
      "text/plain": [
       "([('#earthquake', 1),\n",
       "  ('all', 1),\n",
       "  ('allah', 1),\n",
       "  ('are', 1),\n",
       "  ('deeds', 1),\n",
       "  ('forgive', 1),\n",
       "  ('may', 1),\n",
       "  ('of', 1),\n",
       "  ('our', 1),\n",
       "  ('reason', 1),\n",
       "  ('the', 1),\n",
       "  ('this', 1),\n",
       "  ('us', 1)],\n",
       " 'Our Deeds are the Reason of this #earthquake May ALLAH Forgive us all')"
      ]
     },
     "execution_count": 70,
     "metadata": {},
     "output_type": "execute_result"
    }
   ],
   "source": [
    "frequencies = list(zip(count_vectorizer.get_feature_names_out(), vectors[0].todense().getA()[0]))\n",
    "[x for x in frequencies if x[1] > 0], data.text[0]"
   ]
  },
  {
   "cell_type": "markdown",
   "id": "b1ad0475-c1ee-4236-90e2-f2f59b697ce6",
   "metadata": {},
   "source": [
    "##### Now let's just have a look at random keywords from the top of the list:"
   ]
  },
  {
   "cell_type": "code",
   "execution_count": 71,
   "id": "f13c68d2-6f0d-4771-b2a9-e1f3cc0905d7",
   "metadata": {},
   "outputs": [
    {
     "data": {
      "text/plain": [
       "array(['#0215', '#034', '#039', '#06', '#09', '#1008pla', '#1008planet',\n",
       "       '#124', '#140', '#16', '#163', '#17', '#171', '#2015', '#20150613',\n",
       "       '#22days', '#24', '#263chat', '#2a', '#2fast2furious',\n",
       "       '#2minutemix', '#360wisenews', '#365disasters', '#37592', '#38745',\n",
       "       '#3novices', '#452', '#4playthursdays', '#5sosfam', '#615', '#629',\n",
       "       '#7newsadl', '#8217', '#8392', '#89x', '#911', '#9973', '#999day',\n",
       "       '#9newsmornings', '#abandoned', '#abbott', '#abc',\n",
       "       '#abc7eyewitness', '#abcnews', '#abha', '#ableg', '#abomb',\n",
       "       '#abstorm', '#accident', '#accidentalprophecy', '#acenewsdesk',\n",
       "       '#achedin', '#act', '#actionmoviestaughtus', '#adani',\n",
       "       '#addtexastonext1dtour', '#adiossuperbacterias', '#adjust',\n",
       "       '#adult', '#aeroplane', '#aerospace', '#afc', '#afghanistan',\n",
       "       '#afp', '#africa', '#africanbaze', '#africansinsf', '#after',\n",
       "       '#afterhaiyan', '#afterlife', '#aftershock', '#age', '#aids',\n",
       "       '#aintsheperty', '#aircraft', '#airplane', '#airport', '#airwaves',\n",
       "       '#alameda', '#alaska', '#alaskaseafood', '#albany', '#alberta',\n",
       "       '#algeria', '#allah', '#alllivesmatter',\n",
       "       '#allthekidneybeansandsorbet4misha', '#allthenews', '#alps',\n",
       "       '#alrasyid448iturasya', '#alt', '#alwx', '#amageddon', '#amazon',\n",
       "       '#ambulance', '#amicospizzato', '#amreading', '#amssummer',\n",
       "       '#amsterdam', '#an247'], dtype=object)"
      ]
     },
     "execution_count": 71,
     "metadata": {},
     "output_type": "execute_result"
    }
   ],
   "source": [
    "count_vectorizer.get_feature_names_out()[0:100]"
   ]
  },
  {
   "cell_type": "markdown",
   "id": "85e2aee5-6194-4cc8-a561-141736c2c71f",
   "metadata": {},
   "source": [
    "##### A lot or weird texts looking like some hashes or something. Let's find where one of them occur in the texts"
   ]
  },
  {
   "cell_type": "code",
   "execution_count": 72,
   "id": "fe9fd2cf-ca9d-424a-b385-40ac9a6af51e",
   "metadata": {},
   "outputs": [
    {
     "data": {
      "text/plain": [
       "'Sharp rise in women children casualties in Afghan war UN says http://t.co/0CXm5TkZ8y http://t.co/v5aMDOvHOT'"
      ]
     },
     "execution_count": 72,
     "metadata": {},
     "output_type": "execute_result"
    }
   ],
   "source": [
    "data.loc[data['text'].str.contains(\"0cxm5tkz8y\", case=False)].text.values[0]"
   ]
  },
  {
   "cell_type": "markdown",
   "id": "f3ba49f3-e633-43e9-b407-fb173e5ccf30",
   "metadata": {},
   "source": [
    "##### So these look like parts of urls. Let's check how many different urls we have"
   ]
  },
  {
   "cell_type": "code",
   "execution_count": 73,
   "id": "09cbb810-47ea-419b-877c-71d7f7c264ce",
   "metadata": {},
   "outputs": [],
   "source": [
    "url_pattern =  r'(https?:\\/\\/(?:www\\.)?[-a-zA-Z0-9@:%._+~#=]{1,256}\\.[a-zA-Z0-9()]{1,6}[-a-zA-Z0-9()@:%_+.~#?&/=]*)'"
   ]
  },
  {
   "cell_type": "code",
   "execution_count": 74,
   "id": "34fb8345-195d-46ab-9528-a061afc9d7bb",
   "metadata": {},
   "outputs": [
    {
     "data": {
      "text/plain": [
       "array(['@bbcmtd Wholesale Markets ablaze http://t.co/lHYXEOHY6C',\n",
       "       'We always try to bring the heavy. #metal #RT http://t.co/YAo1e0xngw',\n",
       "       '#AFRICANBAZE: Breaking news:Nigeria flag set ablaze in Aba. http://t.co/2nndBGwyEi',\n",
       "       ...,\n",
       "       'Two giant cranes holding a bridge collapse into nearby homes http://t.co/STfMbbZFB5',\n",
       "       'M1.94 [01:04 UTC]?5km S of Volcano Hawaii. http://t.co/zDtoyd8EbJ',\n",
       "       'The Latest: More Homes Razed by Northern California Wildfire - ABC News http://t.co/YmY4rSkQ3d'],\n",
       "      dtype=object)"
      ]
     },
     "execution_count": 74,
     "metadata": {},
     "output_type": "execute_result"
    }
   ],
   "source": [
    "data.text[data.text.str.findall(url_pattern).apply(len) > 0].values"
   ]
  },
  {
   "cell_type": "code",
   "execution_count": 75,
   "id": "82a1bff3-d7cf-4e1d-a947-0f67e952dac6",
   "metadata": {},
   "outputs": [
    {
     "data": {
      "text/plain": [
       "http://t.co/qew4c5M1xd    9\n",
       "http://t.co/KSAwlYuX02    6\n",
       "http://t.co/q2eBlOKeVE    6\n",
       "http://t.co/vVPLFQv58P    5\n",
       "http://t.co/cybKsXHF7d    5\n",
       "                         ..\n",
       "http://t.co/NXLEiIJFgS    1\n",
       "http://t.co/y5Yhbb0hkf    1\n",
       "http://t.co/GedOxSPpL9    1\n",
       "http://t.co/4k8OLZv9bV    1\n",
       "http://t.co/YmY4rSkQ3d    1\n",
       "Name: text, Length: 3875, dtype: int64"
      ]
     },
     "execution_count": 75,
     "metadata": {},
     "output_type": "execute_result"
    }
   ],
   "source": [
    "data.text.str.findall(url_pattern).apply(lambda x: x[0] if len(x) > 0 else None).value_counts()"
   ]
  },
  {
   "cell_type": "markdown",
   "id": "edde5581-f51e-4256-8054-16e8818ff5b3",
   "metadata": {},
   "source": [
    "##### Probably some of them might be a good indicator of a target. We might want to create a separate column, such as number of urls in a text or something like that"
   ]
  },
  {
   "cell_type": "markdown",
   "id": "52c56128-71c1-44f0-a7d0-876e39f1fcde",
   "metadata": {},
   "source": [
    "##### Let's observe correlation of different words with target"
   ]
  },
  {
   "cell_type": "code",
   "execution_count": 76,
   "id": "11fb1986-e0f3-4cbf-93c4-ed60d24358ae",
   "metadata": {
    "tags": []
   },
   "outputs": [
    {
     "data": {
      "text/plain": [
       "(22351, 7613)"
      ]
     },
     "execution_count": 76,
     "metadata": {},
     "output_type": "execute_result"
    }
   ],
   "source": [
    "columns = np.transpose(vectors.todense().A)\n",
    "columns.shape"
   ]
  },
  {
   "cell_type": "code",
   "execution_count": 77,
   "id": "02f9b4bd-5270-4151-b339-0271469d8ff8",
   "metadata": {
    "tags": []
   },
   "outputs": [],
   "source": [
    "corrcoefs = []\n",
    "for col in columns:\n",
    "    corrcoefs.append(np.corrcoef(col, data.target)[0, 1])\n",
    "named_list = list(zip(count_vectorizer.get_feature_names_out(), corrcoefs))\n",
    "named_list.sort(key=lambda tup: tup[1], reverse = True)"
   ]
  },
  {
   "cell_type": "code",
   "execution_count": 78,
   "id": "a30d98d9-9ed6-4bf3-be5d-184f013bf03a",
   "metadata": {
    "tags": []
   },
   "outputs": [
    {
     "data": {
      "text/plain": [
       "([('http', 0.2126857016032362),\n",
       "  ('co', 0.19572817733727796),\n",
       "  ('in', 0.1651045693565625),\n",
       "  ('california', 0.12913544724422837),\n",
       "  ('suicide', 0.12401359099263466),\n",
       "  ('killed', 0.11853259856300873),\n",
       "  ('mh370', 0.10691665675635052),\n",
       "  ('northern', 0.10608400609185162),\n",
       "  ('hiroshima', 0.10465394740838699),\n",
       "  ('after', 0.10165252947420254)],\n",
       " [('love', -0.06875973302225376),\n",
       "  ('can', -0.07132110403337122),\n",
       "  ('it', -0.07247470509376949),\n",
       "  ('full', -0.0730178581511043),\n",
       "  ('so', -0.07517673569508387),\n",
       "  ('your', -0.07672163676999283),\n",
       "  ('body', -0.08303134852414512),\n",
       "  ('me', -0.08871342288840284),\n",
       "  ('my', -0.12872670360280616),\n",
       "  ('you', -0.15300123086640835)])"
      ]
     },
     "execution_count": 78,
     "metadata": {},
     "output_type": "execute_result"
    }
   ],
   "source": [
    "named_list[0:10], named_list[-10:]"
   ]
  },
  {
   "cell_type": "raw",
   "id": "928cc071-6460-4191-97c6-e02bead44447",
   "metadata": {},
   "source": [
    "It turns out http is the most correlated word, so probably urls in the text are indeed very important for predictions"
   ]
  },
  {
   "cell_type": "raw",
   "id": "6f03dc26-e914-4732-bce4-6b1060c31b9f",
   "metadata": {},
   "source": [
    "Let's check what happens with our hashtags"
   ]
  },
  {
   "cell_type": "code",
   "execution_count": 79,
   "id": "381227c0-2642-4515-a932-10c06342b81c",
   "metadata": {
    "tags": []
   },
   "outputs": [
    {
     "data": {
      "text/plain": [
       "([('#hiroshima', 0.062024958475825245),\n",
       "  ('#news', 0.059967246136529775),\n",
       "  ('#earthquake', 0.0576296711740032),\n",
       "  ('#japan', 0.04382652606782275),\n",
       "  ('#yyc', 0.04178420487501189),\n",
       "  ('#india', 0.04178420487501188),\n",
       "  ('#breaking', 0.03963737068015414),\n",
       "  ('#worldnews', 0.039637370680154126),\n",
       "  ('#abstorm', 0.03963737068015392),\n",
       "  ('#disaster', 0.03736801441379245)],\n",
       " [('#ices', -0.026330931421991874),\n",
       "  ('#trapmusic', -0.026330931421991874),\n",
       "  ('#animalrescue', -0.02633093142199191),\n",
       "  ('#edm', -0.028150800356406054),\n",
       "  ('#dnb', -0.02815080035640607),\n",
       "  ('#beyhive', -0.02815080035640608),\n",
       "  ('#fashion', -0.029860396014459552),\n",
       "  ('#job', -0.0344866190142626),\n",
       "  ('#nowplaying', -0.03654880702029747),\n",
       "  ('#jobs', -0.037254707512115647)])"
      ]
     },
     "execution_count": 79,
     "metadata": {},
     "output_type": "execute_result"
    }
   ],
   "source": [
    "tags_list = list(filter(lambda tup: \"#\" in tup[0], named_list))\n",
    "tags_list[:10], tags_list[-10:]"
   ]
  },
  {
   "cell_type": "code",
   "execution_count": null,
   "id": "b159fa8b-bf18-4918-b716-95a93340a6a3",
   "metadata": {},
   "outputs": [],
   "source": []
  },
  {
   "cell_type": "raw",
   "id": "63758ab9-e6f9-4cb7-a0ce-70ffddbe2e5d",
   "metadata": {},
   "source": [
    "todo: \n",
    "1. count total occurences of each word and discard those that occure few times (e.g. <5), those can only help with overfitting\n",
    "2. train models"
   ]
  },
  {
   "cell_type": "code",
   "execution_count": 80,
   "id": "b6181648-db1d-412b-a332-d1d983e16863",
   "metadata": {},
   "outputs": [],
   "source": [
    "freq_sums = vectors.todense().sum(axis=0).A[0]"
   ]
  },
  {
   "cell_type": "code",
   "execution_count": 81,
   "id": "9e564748-1103-44a8-a9e4-45603ac303ca",
   "metadata": {
    "tags": []
   },
   "outputs": [
    {
     "name": "stdout",
     "output_type": "stream",
     "text": [
      "2399\n"
     ]
    },
    {
     "data": {
      "text/plain": [
       "[('co', 4739),\n",
       " ('http', 4309),\n",
       " ('the', 3277),\n",
       " ('in', 1985),\n",
       " ('to', 1949),\n",
       " ('of', 1830),\n",
       " ('and', 1426),\n",
       " ('is', 949),\n",
       " ('you', 902),\n",
       " ('for', 894),\n",
       " ('on', 860),\n",
       " ('it', 779),\n",
       " ('my', 680),\n",
       " ('that', 623),\n",
       " ('with', 572),\n",
       " ('at', 542),\n",
       " ('by', 527),\n",
       " ('this', 480),\n",
       " ('from', 422),\n",
       " ('https', 411),\n",
       " ('be', 408),\n",
       " ('are', 404),\n",
       " ('have', 386),\n",
       " ('was', 386),\n",
       " ('like', 348),\n",
       " ('û_', 348),\n",
       " ('amp', 344),\n",
       " ('as', 331),\n",
       " ('up', 330),\n",
       " ('me', 329)]"
      ]
     },
     "execution_count": 81,
     "metadata": {},
     "output_type": "execute_result"
    }
   ],
   "source": [
    "named_sums = list(zip(count_vectorizer.get_feature_names_out(), freq_sums))\n",
    "named_sums = list(filter(lambda tup: tup[1] > 5, named_sums))\n",
    "print (len(named_sums))\n",
    "sorted(named_sums, key=lambda tup: tup[1], reverse=True)[0:30]"
   ]
  },
  {
   "cell_type": "markdown",
   "id": "02a937ca-bd00-4679-8be0-d4e8c8e5da94",
   "metadata": {},
   "source": [
    "# Training Models"
   ]
  },
  {
   "cell_type": "code",
   "execution_count": 82,
   "id": "a1cd17fa-a2cb-45eb-acf7-f4acccafa9ec",
   "metadata": {},
   "outputs": [],
   "source": [
    "from sklearn.feature_extraction.text import CountVectorizer\n",
    "from sklearn.linear_model import RidgeClassifier, LogisticRegression\n",
    "import matplotlib.pyplot as plt "
   ]
  },
  {
   "cell_type": "code",
   "execution_count": 83,
   "id": "4b3eefc3-229d-42c8-97a2-675fe89bb241",
   "metadata": {},
   "outputs": [],
   "source": [
    "train_data = data"
   ]
  },
  {
   "cell_type": "code",
   "execution_count": 84,
   "id": "b901bc63-c62e-40a4-b7ea-b96372b13de5",
   "metadata": {},
   "outputs": [],
   "source": [
    "cv = CountVectorizer()"
   ]
  },
  {
   "cell_type": "code",
   "execution_count": 85,
   "id": "7ffe47e4-e6d2-426e-8a1e-74a28aa80172",
   "metadata": {},
   "outputs": [
    {
     "data": {
      "text/plain": [
       "21637"
      ]
     },
     "execution_count": 85,
     "metadata": {},
     "output_type": "execute_result"
    }
   ],
   "source": [
    "train_vectors = cv.fit_transform(train_data.text)\n",
    "all_tokens = train_vectors.shape[1]\n",
    "all_tokens"
   ]
  },
  {
   "cell_type": "code",
   "execution_count": 91,
   "id": "879b6533-4da8-4572-a689-4d052b8fc6c3",
   "metadata": {},
   "outputs": [
    {
     "data": {
      "text/plain": [
       "0.5999722488858569"
      ]
     },
     "execution_count": 91,
     "metadata": {},
     "output_type": "execute_result"
    }
   ],
   "source": [
    "model_rc = RidgeClassifier(random_state=42)\n",
    "model_lr = LogisticRegression(solver=\"liblinear\", C=1.0, max_iter=1000, random_state=42)\n",
    "\n",
    "scores = model_selection.cross_val_score(model_rc, train_vectors, data[\"target\"], cv=3, scoring=\"f1\")\n",
    "scores.mean()"
   ]
  },
  {
   "cell_type": "code",
   "execution_count": 102,
   "id": "7fc67212-ace4-4942-8aa0-b77260234256",
   "metadata": {},
   "outputs": [],
   "source": [
    "def explore_limits(limits, model, min = True, random_state = 42):\n",
    "    scores = {\n",
    "        'hashtags': [],\n",
    "        'plain_words': []\n",
    "    }\n",
    "    \n",
    "    cv = model_selection.StratifiedKFold(4, shuffle=True, random_state=random_state)     \n",
    "    \n",
    "    for m in limits:\n",
    "        plain_cv = CountVectorizer(max_df = m, min_df=85)\n",
    "        hashtag_cv = CountVectorizer(token_pattern=hashtag_pattern, max_df = m, min_df=85)\n",
    "        if min:\n",
    "            plain_cv = CountVectorizer(min_df = m)\n",
    "            hashtag_cv = CountVectorizer(token_pattern=hashtag_pattern, min_df = m)\n",
    "        plain_vectors = plain_cv.fit_transform(train_data.text)\n",
    "        hash_vectors = hashtag_cv.fit_transform(train_data.text)\n",
    "        scores['hashtags'].append(model_selection.cross_val_score(model, hash_vectors, data[\"target\"], cv=cv, scoring=\"f1\").mean())\n",
    "        scores['plain_words'].append(model_selection.cross_val_score(model, plain_vectors, data[\"target\"], cv=cv, scoring=\"f1\").mean())\n",
    "\n",
    "    plt.plot(limits, scores['hashtags'], label='Hashtags')\n",
    "    plt.plot(limits, scores['plain_words'], label='Plain words')\n",
    "    if min:\n",
    "        plt.ylabel(\"min_df\")\n",
    "    else:\n",
    "        plt.ylabel(\"max_df\")\n",
    "    plt.xlabel(\"limits\")\n",
    "    plt.legend()\n",
    "    print (list(zip(limits, scores)))"
   ]
  },
  {
   "cell_type": "code",
   "execution_count": 103,
   "id": "66e5e620-b553-4f82-9cdf-991d24a7cf18",
   "metadata": {
    "tags": []
   },
   "outputs": [
    {
     "name": "stdout",
     "output_type": "stream",
     "text": [
      "[(1, 'hashtags'), (101, 'plain_words')]\n"
     ]
    },
    {
     "data": {
      "image/png": "[encoded data removed]",
      "text/plain": [
       "<Figure size 640x480 with 1 Axes>"
      ]
     },
     "metadata": {},
     "output_type": "display_data"
    }
   ],
   "source": [
    "explore_limits(list(range(1, 4000, 100)), model_rc, random_state=2)"
   ]
  },
  {
   "cell_type": "code",
   "execution_count": 104,
   "id": "33d02879-4ec1-461c-95e1-ad9f72cbb328",
   "metadata": {},
   "outputs": [
    {
     "name": "stdout",
     "output_type": "stream",
     "text": [
      "[(1, 'hashtags'), (101, 'plain_words')]\n"
     ]
    },
    {
     "data": {
      "image/png": "[encoded data removed]",
      "text/plain": [
       "<Figure size 640x480 with 1 Axes>"
      ]
     },
     "metadata": {},
     "output_type": "display_data"
    }
   ],
   "source": [
    "explore_limits(list(range(1, 4000, 100)), model_lr, random_state=2)"
   ]
  },
  {
   "cell_type": "code",
   "execution_count": 105,
   "id": "a6dc6b56-1da2-4c1f-985f-888a7768dd8e",
   "metadata": {},
   "outputs": [
    {
     "name": "stdout",
     "output_type": "stream",
     "text": [
      "[(0, 'hashtags'), (1, 'plain_words')]\n"
     ]
    },
    {
     "data": {
      "image/png": "[encoded data removed]",
      "text/plain": [
       "<Figure size 640x480 with 1 Axes>"
      ]
     },
     "metadata": {},
     "output_type": "display_data"
    }
   ],
   "source": [
    "explore_limits(list(range(0, 40, 1)), model_rc, random_state=5)"
   ]
  },
  {
   "cell_type": "code",
   "execution_count": 106,
   "id": "72b2ecf3-7498-46c7-814f-95d478d1364f",
   "metadata": {},
   "outputs": [
    {
     "name": "stdout",
     "output_type": "stream",
     "text": [
      "[(0, 'hashtags'), (1, 'plain_words')]\n"
     ]
    },
    {
     "data": {
      "image/png": "[encoded data removed]",
      "text/plain": [
       "<Figure size 640x480 with 1 Axes>"
      ]
     },
     "metadata": {},
     "output_type": "display_data"
    }
   ],
   "source": [
    "explore_limits(list(range(0, 40, 1)), model_lr, random_state=5)"
   ]
  },
  {
   "cell_type": "code",
   "execution_count": 769,
   "id": "64bae6d6-6699-4bf6-af4d-08d2b4c1a966",
   "metadata": {},
   "outputs": [
    {
     "name": "stdout",
     "output_type": "stream",
     "text": [
      "[(85, 'hashtags'), (185, 'plain_words')]\n"
     ]
    },
    {
     "data": {
      "image/png": "[encoded data removed]",
      "text/plain": [
       "<Figure size 640x480 with 1 Axes>"
      ]
     },
     "metadata": {},
     "output_type": "display_data"
    }
   ],
   "source": [
    "explore_rc_limits(list(range(85, 4739, 100)), min=False)"
   ]
  },
  {
   "cell_type": "code",
   "execution_count": 770,
   "id": "6bd6c6c0-10f3-42a5-a4d6-7e23aea26e7f",
   "metadata": {},
   "outputs": [
    {
     "name": "stdout",
     "output_type": "stream",
     "text": [
      "[(3600, 'hashtags'), (3615, 'plain_words')]\n"
     ]
    },
    {
     "data": {
      "image/png": "[encoded data removed]",
      "text/plain": [
       "<Figure size 640x480 with 1 Axes>"
      ]
     },
     "metadata": {},
     "output_type": "display_data"
    }
   ],
   "source": [
    "explore_rc_limits(list(range(3600, 4200, 15)), min=False)"
   ]
  },
  {
   "cell_type": "code",
   "execution_count": 771,
   "id": "99804ef4-b64a-4ee3-a965-908d9807066a",
   "metadata": {},
   "outputs": [],
   "source": [
    "def heatmap_rc_limits(limits, min = True):\n",
    "    scores = []\n",
    "    for m in limits:\n",
    "        cv = CountVectorizer(max_df = m)\n",
    "        if min:\n",
    "            cv = CountVectorizer(min_df = m)\n",
    "        train_vectors = cv.fit_transform(train_data.text)\n",
    "        scores.append(model_selection.cross_val_score(model_rc, train_vectors, data[\"target\"], cv=5, scoring=\"f1\").mean())\n",
    "    plt.plot(limits, scores)\n",
    "    if min:\n",
    "        plt.ylabel(\"min_df\")\n",
    "    else:\n",
    "        plt.ylabel(\"max_df\")\n",
    "    plt.xlabel(\"limits\")\n",
    "    print (list(zip(limits, scores)))"
   ]
  },
  {
   "cell_type": "code",
   "execution_count": 772,
   "id": "5ee26b7d-f261-40db-ae1b-14fe6af8204f",
   "metadata": {},
   "outputs": [
    {
     "data": {
      "text/plain": [
       "0.616637728194334"
      ]
     },
     "execution_count": 772,
     "metadata": {},
     "output_type": "execute_result"
    }
   ],
   "source": [
    "cv = CountVectorizer(min_df = 85)\n",
    "vectors = cv.fit_transform(train_data.text)\n",
    "model_selection.cross_val_score(model_rc, vectors, data[\"target\"], cv=4, scoring=\"f1\").mean()"
   ]
  },
  {
   "cell_type": "markdown",
   "id": "fd769dc6-1de0-4dd3-8ebd-358390441d17",
   "metadata": {},
   "source": [
    "### Trying with adding the \"keyword\" column"
   ]
  },
  {
   "cell_type": "code",
   "execution_count": 814,
   "id": "ea3d81a6-d4f7-422b-af68-14b3889852d2",
   "metadata": {},
   "outputs": [],
   "source": [
    "import scipy.sparse as sp\n",
    "from sklearn.feature_selection import SelectKBest, chi2"
   ]
  },
  {
   "cell_type": "code",
   "execution_count": 821,
   "id": "5cdf7945-b9bd-4528-b24c-933201e6d35f",
   "metadata": {},
   "outputs": [
    {
     "data": {
      "text/plain": [
       "(7613, 222)"
      ]
     },
     "execution_count": 821,
     "metadata": {},
     "output_type": "execute_result"
    }
   ],
   "source": [
    "dv = DictVectorizer()\n",
    "dict = data[['keyword']].to_dict(orient='records')\n",
    "keyword_vectors = dv.fit_transform(dict)\n",
    "keyword_vectors.shape"
   ]
  },
  {
   "cell_type": "code",
   "execution_count": 822,
   "id": "345789f5-d7e4-4970-9c4c-8987bd2b0550",
   "metadata": {},
   "outputs": [
    {
     "data": {
      "text/plain": [
       "(7613, 132)"
      ]
     },
     "execution_count": 822,
     "metadata": {},
     "output_type": "execute_result"
    }
   ],
   "source": [
    "vectors.shape"
   ]
  },
  {
   "cell_type": "code",
   "execution_count": 823,
   "id": "3046ea7f-9c46-45ac-8e53-05ba29abdc49",
   "metadata": {},
   "outputs": [
    {
     "data": {
      "text/plain": [
       "scipy.sparse._csr.csr_matrix"
      ]
     },
     "execution_count": 823,
     "metadata": {},
     "output_type": "execute_result"
    }
   ],
   "source": [
    "type(keyword_vectors)"
   ]
  },
  {
   "cell_type": "code",
   "execution_count": 824,
   "id": "a7207556-dbee-4cb1-8a25-c90aa15cee8a",
   "metadata": {},
   "outputs": [
    {
     "data": {
      "text/plain": [
       "array([False, False, False, False, False, False, False, False, False,\n",
       "       False, False, False, False, False, False, False, False, False,\n",
       "       False, False, False, False, False, False, False, False, False,\n",
       "       False, False, False, False, False, False, False, False, False,\n",
       "       False, False, False, False, False, False, False, False, False,\n",
       "       False, False, False, False, False, False, False, False, False,\n",
       "       False, False, False, False, False, False, False, False, False,\n",
       "        True, False, False, False, False, False, False, False,  True,\n",
       "       False, False, False, False, False, False, False, False, False,\n",
       "       False, False, False, False, False, False, False, False, False,\n",
       "       False, False, False, False, False, False, False, False, False,\n",
       "       False, False, False, False, False, False, False, False, False,\n",
       "       False, False, False, False, False, False, False, False, False,\n",
       "       False, False, False, False, False, False, False, False, False,\n",
       "       False, False, False, False, False, False, False, False, False,\n",
       "       False, False, False, False, False, False, False, False, False,\n",
       "       False, False, False, False, False, False, False, False, False,\n",
       "       False,  True, False, False, False, False, False, False, False,\n",
       "       False, False, False, False, False, False, False, False, False,\n",
       "       False, False, False, False, False, False, False, False, False,\n",
       "       False, False, False, False, False, False, False, False, False,\n",
       "       False, False, False, False, False, False, False, False, False,\n",
       "       False, False, False, False, False, False, False, False,  True,\n",
       "       False, False, False, False, False, False, False, False, False,\n",
       "       False, False, False, False,  True, False])"
      ]
     },
     "execution_count": 824,
     "metadata": {},
     "output_type": "execute_result"
    }
   ],
   "source": [
    "support = SelectKBest(k=5).fit(keyword_vectors, data.target)\n",
    "dv.restrict(support.get_support())\n",
    "dv.get_feature_names_out()\n",
    "support.get_support()"
   ]
  },
  {
   "cell_type": "code",
   "execution_count": 825,
   "id": "f75bd533-df42-48ca-8c35-b6ae23141c00",
   "metadata": {},
   "outputs": [
    {
     "data": {
      "text/plain": [
       "<7613x5 sparse matrix of type '<class 'numpy.float64'>'\n",
       "\twith 193 stored elements in Compressed Sparse Row format>"
      ]
     },
     "execution_count": 825,
     "metadata": {},
     "output_type": "execute_result"
    }
   ],
   "source": [
    "dv.transform(dict)"
   ]
  },
  {
   "cell_type": "code",
   "execution_count": 852,
   "id": "1129d5cb-b5c3-4a7f-beba-226e3b28b60c",
   "metadata": {
    "tags": []
   },
   "outputs": [],
   "source": [
    "scores = []\n",
    "feature = 'keyword';\n",
    "limits = list(range(1, data[feature].nunique(), 5))\n",
    "dict = data[[feature]].to_dict(orient='records')\n",
    "\n",
    "cv = model_selection.StratifiedKFold(3, shuffle=True, random_state=6) \n",
    "for i in limits:\n",
    "    keyword_vectors = dv.fit_transform(dict)\n",
    "    support = SelectKBest(k=i).fit(keyword_vectors, data.target)\n",
    "    dv.restrict(support.get_support())\n",
    "    combined_vectors = sp.hstack((vectors, dv.transform(dict)))\n",
    "    s = model_selection.cross_val_score(model_rc, combined_vectors, data[\"target\"], cv=cv, scoring=\"f1\").mean()\n",
    "    scores.append(s)"
   ]
  },
  {
   "cell_type": "code",
   "execution_count": 853,
   "id": "4ac5ea37-20d2-478b-8365-0fee3ed435df",
   "metadata": {},
   "outputs": [
    {
     "data": {
      "text/plain": [
       "[<matplotlib.lines.Line2D at 0x7fb17979dab0>]"
      ]
     },
     "execution_count": 853,
     "metadata": {},
     "output_type": "execute_result"
    },
    {
     "data": {
      "image/png": "[encoded data removed]",
      "text/plain": [
       "<Figure size 640x480 with 1 Axes>"
      ]
     },
     "metadata": {},
     "output_type": "display_data"
    }
   ],
   "source": [
    "plt.plot(limits, scores)"
   ]
  },
  {
   "cell_type": "code",
   "execution_count": 790,
   "id": "d8175fa0-375b-429b-b9e3-7de959c1f4ff",
   "metadata": {},
   "outputs": [
    {
     "data": {
      "text/plain": [
       "0.6141695178825801"
      ]
     },
     "execution_count": 790,
     "metadata": {},
     "output_type": "execute_result"
    }
   ],
   "source": [
    "model_selection.cross_val_score(model_rc, combined_vectors, data[\"target\"], cv=4, scoring=\"f1\").mean()"
   ]
  },
  {
   "cell_type": "code",
   "execution_count": null,
   "id": "b4cabf7e-c3b3-4e61-a1cc-9cab3f1e8844",
   "metadata": {},
   "outputs": [],
   "source": []
  }
 ],
 "metadata": {
  "kernelspec": {
   "display_name": "Python 3 (ipykernel)",
   "language": "python",
   "name": "python3"
  },
  "language_info": {
   "codemirror_mode": {
    "name": "ipython",
    "version": 3
   },
   "file_extension": ".py",
   "mimetype": "text/x-python",
   "name": "python",
   "nbconvert_exporter": "python",
   "pygments_lexer": "ipython3",
   "version": "3.10.6"
  }
 },
 "nbformat": 4,
 "nbformat_minor": 5
}
